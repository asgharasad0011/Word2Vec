{
  "cells": [
    {
      "cell_type": "code",
      "source": [
        "text = \"\"\"Pakistan officially the Islamic Republic of Pakistan is a country in South Asia.\n",
        "It is the fifth-most populous country, with a population of over 241.5 million,\n",
        "having the second-largest Muslim population as of 2023. Islamabad is the nation's capital,\n",
        "while Karachi is its largest city and financial centre. Pakistan is the 33rd-largest country by area.\n",
        "Bounded by the Arabian Sea on the south, the Gulf of Oman on the southwest, and the Sir Creek on the southeast,\n",
        "it shares land borders with India to the east; Afghanistan to the west; Iran to the southwest; and China to the northeast.\"\"\""
      ],
      "metadata": {
        "id": "XyCo2rsZk-LD"
      },
      "execution_count": null,
      "outputs": []
    },
    {
      "cell_type": "code",
      "source": [
        "from gensim.utils import simple_preprocess\n",
        "\n",
        "# Assuming 'text' contains your Wikipedia content\n",
        "# Split text into lines (or sentences) and tokenize\n",
        "sentences = [simple_preprocess(line) for line in text.split('\\n') if line.strip()]\n",
        "\n",
        "# Check first 5 tokenized sentences\n",
        "for i, s in enumerate(sentences[:5]):\n",
        "    print(f\"Sentence {i+1}: {s}\")\n"
      ],
      "metadata": {
        "colab": {
          "base_uri": "https://localhost:8080/"
        },
        "id": "ud2DXl6bkqdJ",
        "outputId": "29876e14-4ec1-42e0-a0df-6f4b313c9921"
      },
      "execution_count": null,
      "outputs": [
        {
          "output_type": "stream",
          "name": "stdout",
          "text": [
            "Sentence 1: ['pakistan', 'officially', 'the', 'islamic', 'republic', 'of', 'pakistan', 'is', 'country', 'in', 'south', 'asia', 'it', 'is', 'the', 'fifth', 'most', 'populous', 'country', 'with', 'population', 'of', 'over', 'million', 'having', 'the', 'second', 'largest', 'muslim', 'population', 'as', 'of', 'islamabad', 'is', 'the', 'nation', 'capital', 'while', 'karachi', 'is', 'its', 'largest', 'city', 'and', 'financial', 'centre', 'pakistan', 'is', 'the', 'rd', 'largest', 'country', 'by', 'area', 'bounded', 'by', 'the', 'arabian', 'sea', 'on', 'the', 'south', 'the', 'gulf', 'of', 'oman', 'on', 'the', 'southwest', 'and', 'the', 'sir', 'creek', 'on', 'the', 'southeast', 'it', 'shares', 'land', 'borders', 'with', 'india', 'to', 'the', 'east', 'afghanistan', 'to', 'the', 'west', 'iran', 'to', 'the', 'southwest', 'and', 'china', 'to', 'the', 'northeast', 'it', 'shares', 'maritime', 'border', 'with', 'oman', 'in', 'the', 'gulf', 'of', 'oman', 'and', 'is', 'separated', 'from', 'tajikistan', 'in', 'the', 'northwest', 'by', 'afghanistan', 'narrow', 'wakhan', 'corridor']\n",
            "Sentence 2: ['pakistan', 'is', 'the', 'site', 'of', 'several', 'ancient', 'cultures', 'including', 'the', 'year', 'old', 'neolithic', 'site', 'of', 'mehrgarh', 'in', 'balochistan', 'the', 'indus', 'valley', 'civilisation', 'of', 'the', 'bronze', 'age', 'and', 'the', 'ancient', 'gandhara', 'civilisation', 'the', 'regions', 'that', 'compose', 'the', 'modern', 'state', 'of', 'pakistan', 'were', 'the', 'realm', 'of', 'multiple', 'empires', 'and', 'dynasties', 'including', 'the', 'achaemenid', 'the', 'maurya', 'the', 'kushan', 'the', 'gupta', 'the', 'umayyad', 'caliphate', 'in', 'its', 'southern', 'regions', 'the', 'hindu', 'shahis', 'the', 'ghaznavids', 'the', 'delhi', 'sultanate', 'the', 'samma', 'the', 'shah', 'miris', 'the', 'mughals', 'and', 'finally', 'the', 'british', 'raj', 'from', 'to']\n",
            "Sentence 3: ['spurred', 'by', 'the', 'pakistan', 'movement', 'which', 'sought', 'homeland', 'for', 'the', 'muslims', 'of', 'british', 'india', 'and', 'election', 'victories', 'in', 'by', 'the', 'all', 'india', 'muslim', 'league', 'pakistan', 'gained', 'independence', 'in', 'after', 'the', 'partition', 'of', 'the', 'british', 'indian', 'empire', 'which', 'awarded', 'separate', 'statehood', 'to', 'its', 'muslim', 'majority', 'regions', 'and', 'was', 'accompanied', 'by', 'an', 'unparalleled', 'mass', 'migration', 'and', 'loss', 'of', 'life', 'initially', 'dominion', 'of', 'the', 'british', 'commonwealth', 'pakistan', 'officially', 'drafted', 'its', 'constitution', 'in', 'and', 'emerged', 'as', 'declared', 'islamic', 'republic', 'in', 'the', 'exclave', 'of', 'east', 'pakistan', 'seceded', 'as', 'the', 'new', 'country', 'of', 'bangladesh', 'after', 'nine', 'month', 'long', 'civil', 'war', 'in', 'the', 'following', 'four', 'decades', 'pakistan', 'has', 'been', 'ruled', 'by', 'governments', 'that', 'alternated', 'between', 'civilian', 'and', 'military', 'democratic', 'and', 'authoritarian', 'relatively', 'secular', 'and', 'islamist']\n",
            "Sentence 4: ['pakistan', 'is', 'considered', 'middle', 'power', 'nation', 'with', 'the', 'world', 'seventh', 'largest', 'standing', 'armed', 'forces', 'it', 'is', 'declared', 'nuclear', 'weapons', 'state', 'and', 'is', 'ranked', 'amongst', 'the', 'emerging', 'and', 'growth', 'leading', 'economies', 'with', 'large', 'and', 'rapidly', 'growing', 'middle', 'class', 'pakistan', 'political', 'history', 'since', 'independence', 'has', 'been', 'characterized', 'by', 'periods', 'of', 'significant', 'economic', 'and', 'military', 'growth', 'as', 'well', 'as', 'those', 'of', 'political', 'and', 'economic', 'instability', 'it', 'is', 'an', 'ethnically', 'and', 'linguistically', 'diverse', 'country', 'with', 'similarly', 'diverse', 'geography', 'and', 'wildlife', 'the', 'country', 'continues', 'to', 'face', 'challenges', 'including', 'poverty', 'illiteracy', 'corruption', 'and', 'terrorism', 'pakistan', 'is', 'member', 'of', 'the', 'united', 'nations', 'the', 'shanghai', 'cooperation', 'organisation', 'the', 'organisation', 'of', 'islamic', 'cooperation', 'the', 'commonwealth', 'of', 'nations', 'the', 'south', 'asian', 'association', 'for', 'regional', 'cooperation', 'and', 'the', 'islamic', 'military', 'counter', 'terrorism', 'coalition', 'and', 'is', 'designated', 'as', 'major', 'non', 'nato', 'ally', 'by', 'the', 'united', 'states']\n",
            "Sentence 5: ['the', 'name', 'pakistan', 'was', 'coined', 'by', 'choudhry', 'rahmat', 'ali', 'pakistan', 'movement', 'activist', 'who', 'in', 'january', 'first', 'published', 'it', 'originally', 'as', 'pakstan', 'in', 'pamphlet', 'now', 'or', 'never', 'using', 'it', 'as', 'an', 'acronym', 'rahmat', 'ali', 'explained', 'it', 'is', 'composed', 'of', 'letters', 'taken', 'from', 'the', 'names', 'of', 'all', 'our', 'homelands', 'indian', 'and', 'asian', 'panjab', 'afghania', 'kashmir', 'sindh', 'and', 'baluchistan', 'he', 'added', 'pakistan', 'is', 'both', 'persian', 'and', 'urdu', 'word', 'it', 'means', 'the', 'land', 'of', 'the', 'paks', 'the', 'spiritually', 'pure', 'and', 'clean', 'etymologists', 'note', 'that', 'پاک', 'pāk', 'is', 'pure', 'in', 'persian', 'and', 'pashto', 'and', 'the', 'persian', 'suffix', 'ـستان', 'stan', 'means', 'land', 'or', 'place', 'of']\n"
          ]
        }
      ]
    },
    {
      "cell_type": "code",
      "source": [
        "from gensim.models import Word2Vec\n",
        "\n",
        "# Step 3: Train Word2Vec model\n",
        "model = Word2Vec(\n",
        "    sentences,\n",
        "    vector_size=100,     # number of features (embedding size)\n",
        "    window=5,            # context window\n",
        "    min_count=2,         # ignore words that appear less than twice\n",
        "    sg=1,                # 1 = skip-gram, 0 = CBOW\n",
        "    workers=4,           # number of CPU threads\n",
        "    epochs=50           # training iterations\n",
        ")\n"
      ],
      "metadata": {
        "id": "JsqRgYm6krRv"
      },
      "execution_count": null,
      "outputs": []
    },
    {
      "cell_type": "code",
      "source": [
        "vector = model.wv['pakistan']\n",
        "print(vector)"
      ],
      "metadata": {
        "colab": {
          "base_uri": "https://localhost:8080/"
        },
        "id": "HfzSqOsjmUWI",
        "outputId": "354d2aaa-f4f2-40e9-c1dd-11a37c121425"
      },
      "execution_count": null,
      "outputs": [
        {
          "output_type": "stream",
          "name": "stdout",
          "text": [
            "[-2.24748969e-01  2.20466048e-01  2.96461694e-02  2.62300167e-02\n",
            "  4.36723290e-04 -3.41099828e-01  2.44812772e-01  4.62735891e-01\n",
            " -1.56099936e-02  1.13782451e-01 -3.69328529e-01 -2.61761695e-01\n",
            "  9.02631655e-02  2.88789161e-02  2.25575566e-01 -3.26922059e-01\n",
            " -4.88443077e-02 -1.32295251e-01 -1.30228162e-01 -4.47725058e-01\n",
            "  2.27790494e-02  8.02095830e-02 -2.68420335e-02 -1.78343549e-01\n",
            " -2.36414075e-01 -9.29890722e-02 -5.18533774e-02  1.03984095e-01\n",
            "  3.28476378e-03  3.85143831e-02  3.97604436e-01 -1.30523741e-01\n",
            "  9.26338881e-02 -4.02952522e-01  2.31731609e-01 -1.73384883e-02\n",
            "  3.11928540e-01 -1.27560526e-01 -1.97189406e-01 -2.16047943e-01\n",
            "  2.87384868e-01  1.29500031e-01 -1.72530100e-01  1.12793460e-01\n",
            "  2.22620338e-01  2.07075980e-02 -1.36374801e-01  2.84548879e-01\n",
            "  2.78772622e-01 -3.50791037e-01  5.01786396e-02 -3.04176837e-01\n",
            " -3.13171864e-01 -2.97482163e-01 -3.08458172e-02 -2.57737994e-01\n",
            "  1.63404066e-02 -3.54708076e-01 -5.86247705e-02 -2.63514698e-01\n",
            "  2.23465607e-01 -1.90747499e-01 -1.95427928e-02  3.11263561e-01\n",
            "  7.36543015e-02  3.19747299e-01 -1.23943582e-01  3.34963769e-01\n",
            " -4.79855109e-03  1.04580186e-01  9.53397378e-02  1.37133837e-01\n",
            "  5.58180362e-03  1.42363384e-01  3.33575785e-01  3.46737981e-01\n",
            " -1.61548346e-01  3.14887166e-01 -5.30095771e-03 -1.53578788e-01\n",
            " -7.65937492e-02 -3.23161751e-01  2.82917261e-01  1.28682137e-01\n",
            "  1.59559980e-01 -4.14706081e-01  3.91933024e-01  1.32455081e-01\n",
            "  1.50624186e-01  2.61859838e-02 -1.07895404e-01 -1.44297564e-02\n",
            " -3.62271033e-02  4.12079096e-02  2.39355728e-01 -2.81076413e-02\n",
            " -1.87958237e-02  1.55213133e-01  3.18247341e-02  1.05584599e-01]\n"
          ]
        }
      ]
    },
    {
      "cell_type": "code",
      "source": [
        "model.wv.most_similar('capital')"
      ],
      "metadata": {
        "colab": {
          "base_uri": "https://localhost:8080/"
        },
        "id": "0LeKx9APmZK6",
        "outputId": "e3eaef68-2014-424e-ca15-1260c75e9db0"
      },
      "execution_count": null,
      "outputs": [
        {
          "output_type": "execute_result",
          "data": {
            "text/plain": [
              "[('territory', 0.9455599188804626),\n",
              " ('islamabad', 0.8805089592933655),\n",
              " ('territories', 0.8574221134185791),\n",
              " ('azad', 0.8310370445251465),\n",
              " ('quetta', 0.8294116854667664),\n",
              " ('sialkot', 0.8077350854873657),\n",
              " ('city', 0.7683015465736389),\n",
              " ('surrounding', 0.7643511891365051),\n",
              " ('controls', 0.7638183832168579),\n",
              " ('jhelum', 0.7600926756858826)]"
            ]
          },
          "metadata": {},
          "execution_count": 65
        }
      ]
    },
    {
      "cell_type": "code",
      "source": [
        "model.wv.similarity('pakistan', 'islamabad')"
      ],
      "metadata": {
        "colab": {
          "base_uri": "https://localhost:8080/"
        },
        "id": "OOhfVtb_mfXD",
        "outputId": "44052494-9013-4502-be31-a745fab4680e"
      },
      "execution_count": null,
      "outputs": [
        {
          "output_type": "execute_result",
          "data": {
            "text/plain": [
              "np.float32(0.5779965)"
            ]
          },
          "metadata": {},
          "execution_count": 40
        }
      ]
    },
    {
      "cell_type": "code",
      "source": [
        "model.wv.most_similar(positive=['karachi', 'country'], negative=['islamabad'])"
      ],
      "metadata": {
        "colab": {
          "base_uri": "https://localhost:8080/"
        },
        "id": "VT9rRaUynIDr",
        "outputId": "ede668bf-4fc5-49a9-cf19-53c522b35fce"
      },
      "execution_count": null,
      "outputs": [
        {
          "output_type": "execute_result",
          "data": {
            "text/plain": [
              "[('is', 0.8817732930183411),\n",
              " ('ranks', 0.8784876465797424),\n",
              " ('most', 0.8778795003890991),\n",
              " ('largest', 0.876819372177124),\n",
              " ('fifth', 0.8676677942276001),\n",
              " ('population', 0.8667789697647095),\n",
              " ('globally', 0.8499457836151123),\n",
              " ('one', 0.8402856588363647),\n",
              " ('middle', 0.8369336724281311),\n",
              " ('second', 0.8319492936134338)]"
            ]
          },
          "metadata": {},
          "execution_count": 41
        }
      ]
    },
    {
      "cell_type": "code",
      "source": [
        "f5=list(model.wv.key_to_index.items())[:5]\n",
        "print(f5)"
      ],
      "metadata": {
        "colab": {
          "base_uri": "https://localhost:8080/"
        },
        "id": "dCIneu8TnRhS",
        "outputId": "8934b9a7-9a0b-48aa-f4ec-1ebf1cd1f0e5"
      },
      "execution_count": null,
      "outputs": [
        {
          "output_type": "stream",
          "name": "stdout",
          "text": [
            "[('the', 0), ('and', 1), ('in', 2), ('of', 3), ('pakistan', 4)]\n"
          ]
        }
      ]
    },
    {
      "cell_type": "code",
      "source": [
        "x1=model.wv.vectors[0]\n",
        "x1"
      ],
      "metadata": {
        "colab": {
          "base_uri": "https://localhost:8080/"
        },
        "id": "v9nXd3tRtBtE",
        "outputId": "4c2006ee-d0cc-4207-854a-6d96b7f73794"
      },
      "execution_count": null,
      "outputs": [
        {
          "output_type": "execute_result",
          "data": {
            "text/plain": [
              "array([ 2.26313815e-01,  6.17702119e-02, -3.88430111e-04,  5.35418503e-02,\n",
              "       -2.63598680e-01, -1.31717116e-01,  2.60719180e-01,  4.47300196e-01,\n",
              "       -1.93134159e-01, -1.95196271e-02,  8.99008960e-02, -1.97560829e-03,\n",
              "       -8.61919150e-02,  1.93804383e-01, -6.38178922e-03,  2.43611466e-02,\n",
              "        2.25067303e-01,  2.90550813e-02, -2.38854647e-01, -3.08754742e-01,\n",
              "       -2.31091574e-01, -1.04215287e-01,  7.35777393e-02, -2.52425253e-01,\n",
              "        5.58024794e-02, -4.75761220e-02, -2.85419405e-01,  2.01521024e-01,\n",
              "       -3.14218938e-01,  4.05310467e-02, -3.82420495e-02, -1.88124344e-01,\n",
              "        4.12895113e-01, -1.38505280e-01, -5.35538346e-02,  2.27004401e-02,\n",
              "        5.13937831e-01, -1.78471461e-01,  2.60858268e-01,  9.41299126e-02,\n",
              "        1.25236630e-01,  9.86565650e-03, -5.45151472e-01,  1.52759299e-01,\n",
              "        1.79344445e-01, -5.07736020e-02, -2.92733219e-02,  4.18618113e-01,\n",
              "        3.43430191e-01,  5.97659573e-02, -1.17588408e-01,  7.28129745e-02,\n",
              "       -4.41420645e-01, -2.36744713e-02,  2.52119869e-01, -3.44585836e-01,\n",
              "        3.79026651e-01, -1.04950234e-01,  2.91885864e-02,  3.81297059e-02,\n",
              "       -3.18381973e-02, -2.19026413e-02, -1.30974889e-01,  2.43580163e-01,\n",
              "       -8.31968412e-02,  3.56719822e-01, -2.61331826e-01,  3.33907962e-01,\n",
              "       -1.79070935e-01, -3.36564034e-02,  3.76588047e-01,  1.12193212e-01,\n",
              "        2.17625111e-01, -1.91499546e-01,  2.77719945e-01,  2.16742456e-01,\n",
              "       -2.27017358e-01, -3.35089816e-03,  1.00013182e-01, -2.95927465e-01,\n",
              "       -1.07890159e-01,  1.95585075e-03,  2.11336508e-01,  1.95930675e-01,\n",
              "       -1.10869102e-01, -3.20169739e-02,  8.66862684e-02,  1.48102352e-02,\n",
              "        3.75907898e-01, -2.14402284e-02, -2.23277792e-01,  1.08997881e-01,\n",
              "       -5.60831130e-02,  3.98302346e-01,  2.34379381e-01,  1.09191649e-01,\n",
              "       -1.52317926e-01,  1.56393662e-01,  1.10845096e-01, -1.11143338e-03],\n",
              "      dtype=float32)"
            ]
          },
          "metadata": {},
          "execution_count": 60
        }
      ]
    },
    {
      "cell_type": "code",
      "source": [
        "x2= model.wv['the']\n",
        "print(x2)"
      ],
      "metadata": {
        "colab": {
          "base_uri": "https://localhost:8080/"
        },
        "id": "UqZM1sfVvtit",
        "outputId": "b27063a9-483c-4859-8849-ac27689a1b13"
      },
      "execution_count": null,
      "outputs": [
        {
          "output_type": "stream",
          "name": "stdout",
          "text": [
            "[ 2.26313815e-01  6.17702119e-02 -3.88430111e-04  5.35418503e-02\n",
            " -2.63598680e-01 -1.31717116e-01  2.60719180e-01  4.47300196e-01\n",
            " -1.93134159e-01 -1.95196271e-02  8.99008960e-02 -1.97560829e-03\n",
            " -8.61919150e-02  1.93804383e-01 -6.38178922e-03  2.43611466e-02\n",
            "  2.25067303e-01  2.90550813e-02 -2.38854647e-01 -3.08754742e-01\n",
            " -2.31091574e-01 -1.04215287e-01  7.35777393e-02 -2.52425253e-01\n",
            "  5.58024794e-02 -4.75761220e-02 -2.85419405e-01  2.01521024e-01\n",
            " -3.14218938e-01  4.05310467e-02 -3.82420495e-02 -1.88124344e-01\n",
            "  4.12895113e-01 -1.38505280e-01 -5.35538346e-02  2.27004401e-02\n",
            "  5.13937831e-01 -1.78471461e-01  2.60858268e-01  9.41299126e-02\n",
            "  1.25236630e-01  9.86565650e-03 -5.45151472e-01  1.52759299e-01\n",
            "  1.79344445e-01 -5.07736020e-02 -2.92733219e-02  4.18618113e-01\n",
            "  3.43430191e-01  5.97659573e-02 -1.17588408e-01  7.28129745e-02\n",
            " -4.41420645e-01 -2.36744713e-02  2.52119869e-01 -3.44585836e-01\n",
            "  3.79026651e-01 -1.04950234e-01  2.91885864e-02  3.81297059e-02\n",
            " -3.18381973e-02 -2.19026413e-02 -1.30974889e-01  2.43580163e-01\n",
            " -8.31968412e-02  3.56719822e-01 -2.61331826e-01  3.33907962e-01\n",
            " -1.79070935e-01 -3.36564034e-02  3.76588047e-01  1.12193212e-01\n",
            "  2.17625111e-01 -1.91499546e-01  2.77719945e-01  2.16742456e-01\n",
            " -2.27017358e-01 -3.35089816e-03  1.00013182e-01 -2.95927465e-01\n",
            " -1.07890159e-01  1.95585075e-03  2.11336508e-01  1.95930675e-01\n",
            " -1.10869102e-01 -3.20169739e-02  8.66862684e-02  1.48102352e-02\n",
            "  3.75907898e-01 -2.14402284e-02 -2.23277792e-01  1.08997881e-01\n",
            " -5.60831130e-02  3.98302346e-01  2.34379381e-01  1.09191649e-01\n",
            " -1.52317926e-01  1.56393662e-01  1.10845096e-01 -1.11143338e-03]\n"
          ]
        }
      ]
    },
    {
      "cell_type": "code",
      "source": [
        "import numpy as np\n",
        "\n",
        "if np.array_equal(x1, x2):\n",
        "    print(\"True\")\n",
        "else:\n",
        "    print(\"False\")"
      ],
      "metadata": {
        "colab": {
          "base_uri": "https://localhost:8080/"
        },
        "id": "uQnoN2CNwMgw",
        "outputId": "f5b84c74-f16a-4532-f417-794c47530c15"
      },
      "execution_count": null,
      "outputs": [
        {
          "output_type": "stream",
          "name": "stdout",
          "text": [
            "True\n"
          ]
        }
      ]
    }
  ],
  "metadata": {
    "colab": {
      "provenance": []
    },
    "kernelspec": {
      "display_name": "Python 3",
      "name": "python3"
    }
  },
  "nbformat": 4,
  "nbformat_minor": 0
}