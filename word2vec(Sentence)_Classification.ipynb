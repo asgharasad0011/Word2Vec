{
  "cells": [
    {
      "cell_type": "code",
      "execution_count": null,
      "id": "65f02709",
      "metadata": {
        "id": "65f02709"
      },
      "outputs": [],
      "source": [
        "import numpy as np\n",
        "import pandas as pd"
      ]
    },
    {
      "cell_type": "code",
      "execution_count": null,
      "id": "ef5387d7",
      "metadata": {
        "id": "ef5387d7"
      },
      "outputs": [],
      "source": [
        "temp_df = pd.read_csv('IMDB Dataset.csv')"
      ]
    },
    {
      "cell_type": "code",
      "execution_count": null,
      "id": "bf5b32e2",
      "metadata": {
        "id": "bf5b32e2"
      },
      "outputs": [],
      "source": [
        "df = temp_df.iloc[:10000]"
      ]
    },
    {
      "cell_type": "code",
      "execution_count": null,
      "id": "bcca0d5e",
      "metadata": {
        "id": "bcca0d5e",
        "outputId": "a3b84ccc-1e95-4cec-f05c-04c2dcd82cff"
      },
      "outputs": [
        {
          "data": {
            "text/html": [
              "<div>\n",
              "<style scoped>\n",
              "    .dataframe tbody tr th:only-of-type {\n",
              "        vertical-align: middle;\n",
              "    }\n",
              "\n",
              "    .dataframe tbody tr th {\n",
              "        vertical-align: top;\n",
              "    }\n",
              "\n",
              "    .dataframe thead th {\n",
              "        text-align: right;\n",
              "    }\n",
              "</style>\n",
              "<table border=\"1\" class=\"dataframe\">\n",
              "  <thead>\n",
              "    <tr style=\"text-align: right;\">\n",
              "      <th></th>\n",
              "      <th>review</th>\n",
              "      <th>sentiment</th>\n",
              "    </tr>\n",
              "  </thead>\n",
              "  <tbody>\n",
              "    <tr>\n",
              "      <th>0</th>\n",
              "      <td>One of the other reviewers has mentioned that ...</td>\n",
              "      <td>positive</td>\n",
              "    </tr>\n",
              "    <tr>\n",
              "      <th>1</th>\n",
              "      <td>A wonderful little production. &lt;br /&gt;&lt;br /&gt;The...</td>\n",
              "      <td>positive</td>\n",
              "    </tr>\n",
              "    <tr>\n",
              "      <th>2</th>\n",
              "      <td>I thought this was a wonderful way to spend ti...</td>\n",
              "      <td>positive</td>\n",
              "    </tr>\n",
              "    <tr>\n",
              "      <th>3</th>\n",
              "      <td>Basically there's a family where a little boy ...</td>\n",
              "      <td>negative</td>\n",
              "    </tr>\n",
              "    <tr>\n",
              "      <th>4</th>\n",
              "      <td>Petter Mattei's \"Love in the Time of Money\" is...</td>\n",
              "      <td>positive</td>\n",
              "    </tr>\n",
              "  </tbody>\n",
              "</table>\n",
              "</div>"
            ],
            "text/plain": [
              "                                              review sentiment\n",
              "0  One of the other reviewers has mentioned that ...  positive\n",
              "1  A wonderful little production. <br /><br />The...  positive\n",
              "2  I thought this was a wonderful way to spend ti...  positive\n",
              "3  Basically there's a family where a little boy ...  negative\n",
              "4  Petter Mattei's \"Love in the Time of Money\" is...  positive"
            ]
          },
          "execution_count": 5,
          "metadata": {},
          "output_type": "execute_result"
        }
      ],
      "source": [
        "df.head()"
      ]
    },
    {
      "cell_type": "code",
      "execution_count": null,
      "id": "fa7caeae",
      "metadata": {
        "id": "fa7caeae",
        "outputId": "784434c7-d317-4938-f57f-4a7105e4fe39"
      },
      "outputs": [
        {
          "name": "stderr",
          "output_type": "stream",
          "text": [
            "<ipython-input-6-16cdb8520be8>:1: SettingWithCopyWarning: \n",
            "A value is trying to be set on a copy of a slice from a DataFrame\n",
            "\n",
            "See the caveats in the documentation: https://pandas.pydata.org/pandas-docs/stable/user_guide/indexing.html#returning-a-view-versus-a-copy\n",
            "  df.drop_duplicates(inplace=True)\n"
          ]
        }
      ],
      "source": [
        "df.drop_duplicates(inplace=True)"
      ]
    },
    {
      "cell_type": "code",
      "execution_count": null,
      "id": "c5aa873c",
      "metadata": {
        "id": "c5aa873c"
      },
      "outputs": [],
      "source": [
        "import re\n",
        "def remove_tags(raw_text):\n",
        "    cleaned_text = re.sub(re.compile('<.*?>'), '', raw_text)\n",
        "    return cleaned_text"
      ]
    },
    {
      "cell_type": "code",
      "execution_count": null,
      "id": "f3ef1d87",
      "metadata": {
        "id": "f3ef1d87",
        "outputId": "7d98ac54-ace5-45d1-947f-aadee740a668"
      },
      "outputs": [
        {
          "name": "stderr",
          "output_type": "stream",
          "text": [
            "<ipython-input-8-00e93c2a3043>:1: SettingWithCopyWarning: \n",
            "A value is trying to be set on a copy of a slice from a DataFrame.\n",
            "Try using .loc[row_indexer,col_indexer] = value instead\n",
            "\n",
            "See the caveats in the documentation: https://pandas.pydata.org/pandas-docs/stable/user_guide/indexing.html#returning-a-view-versus-a-copy\n",
            "  df['review'] = df['review'].apply(remove_tags)\n"
          ]
        }
      ],
      "source": [
        "df['review'] = df['review'].apply(remove_tags)"
      ]
    },
    {
      "cell_type": "code",
      "execution_count": null,
      "id": "81f77af2",
      "metadata": {
        "id": "81f77af2",
        "outputId": "ea383800-0d0e-4255-cf6f-b8a95647472a"
      },
      "outputs": [
        {
          "name": "stderr",
          "output_type": "stream",
          "text": [
            "<ipython-input-9-afca29351ee0>:1: SettingWithCopyWarning: \n",
            "A value is trying to be set on a copy of a slice from a DataFrame.\n",
            "Try using .loc[row_indexer,col_indexer] = value instead\n",
            "\n",
            "See the caveats in the documentation: https://pandas.pydata.org/pandas-docs/stable/user_guide/indexing.html#returning-a-view-versus-a-copy\n",
            "  df['review'] = df['review'].apply(lambda x:x.lower())\n"
          ]
        }
      ],
      "source": [
        "df['review'] = df['review'].apply(lambda x:x.lower())"
      ]
    },
    {
      "cell_type": "code",
      "execution_count": null,
      "id": "cc2b2de9",
      "metadata": {
        "id": "cc2b2de9",
        "outputId": "ab9074da-1020-4b55-e42a-38df344b419f"
      },
      "outputs": [
        {
          "name": "stderr",
          "output_type": "stream",
          "text": [
            "<ipython-input-10-9f68b5950da1>:5: SettingWithCopyWarning: \n",
            "A value is trying to be set on a copy of a slice from a DataFrame.\n",
            "Try using .loc[row_indexer,col_indexer] = value instead\n",
            "\n",
            "See the caveats in the documentation: https://pandas.pydata.org/pandas-docs/stable/user_guide/indexing.html#returning-a-view-versus-a-copy\n",
            "  df['review'] = df['review'].apply(lambda x: [item for item in x.split() if item not in sw_list]).apply(lambda x:\" \".join(x))\n"
          ]
        }
      ],
      "source": [
        "from nltk.corpus import stopwords\n",
        "\n",
        "sw_list = stopwords.words('english')\n",
        "\n",
        "df['review'] = df['review'].apply(lambda x: [item for item in x.split() if item not in sw_list]).apply(lambda x:\" \".join(x))"
      ]
    },
    {
      "cell_type": "code",
      "execution_count": null,
      "id": "7fb66170",
      "metadata": {
        "id": "7fb66170",
        "outputId": "bd8dfcf7-d61a-4ca4-e3a0-3006ff63f2db"
      },
      "outputs": [
        {
          "data": {
            "text/plain": [
              "0       one reviewers mentioned watching 1 oz episode ...\n",
              "1       wonderful little production. filming technique...\n",
              "2       thought wonderful way spend time hot summer we...\n",
              "3       basically there's family little boy (jake) thi...\n",
              "4       petter mattei's \"love time money\" visually stu...\n",
              "                              ...                        \n",
              "9995    fun, entertaining movie wwii german spy (julie...\n",
              "9996    give break. anyone say \"good hockey movie\"? kn...\n",
              "9997    movie bad movie. watching endless series bad h...\n",
              "9998    movie probably made entertain middle school, e...\n",
              "9999    smashing film film-making. shows intense stran...\n",
              "Name: review, Length: 9983, dtype: object"
            ]
          },
          "execution_count": 11,
          "metadata": {},
          "output_type": "execute_result"
        }
      ],
      "source": [
        "df['review']"
      ]
    },
    {
      "cell_type": "code",
      "execution_count": null,
      "id": "4e4ac19a",
      "metadata": {
        "id": "4e4ac19a"
      },
      "outputs": [],
      "source": [
        "import gensim"
      ]
    },
    {
      "cell_type": "code",
      "execution_count": null,
      "id": "be405746",
      "metadata": {
        "id": "be405746"
      },
      "outputs": [],
      "source": [
        "from nltk import sent_tokenize\n",
        "from gensim.utils import simple_preprocess"
      ]
    },
    {
      "cell_type": "code",
      "execution_count": null,
      "id": "0077c32f",
      "metadata": {
        "id": "0077c32f"
      },
      "outputs": [],
      "source": [
        "story = []\n",
        "for doc in df['review']:\n",
        "    raw_sent = sent_tokenize(doc)\n",
        "    for sent in raw_sent:\n",
        "        story.append(simple_preprocess(sent))\n",
        ""
      ]
    },
    {
      "cell_type": "code",
      "execution_count": null,
      "id": "fb22339d",
      "metadata": {
        "id": "fb22339d"
      },
      "outputs": [],
      "source": [
        "model = gensim.models.Word2Vec(\n",
        "    window=10,\n",
        "    min_count=2\n",
        ")"
      ]
    },
    {
      "cell_type": "code",
      "execution_count": null,
      "id": "867aaf21",
      "metadata": {
        "id": "867aaf21"
      },
      "outputs": [],
      "source": [
        "model.build_vocab(story)"
      ]
    },
    {
      "cell_type": "code",
      "execution_count": null,
      "id": "2484c259",
      "metadata": {
        "id": "2484c259",
        "outputId": "ae856ea2-64c3-411a-f16e-146485f7c3ed"
      },
      "outputs": [
        {
          "data": {
            "text/plain": [
              "(5875535, 6212140)"
            ]
          },
          "execution_count": 17,
          "metadata": {},
          "output_type": "execute_result"
        }
      ],
      "source": [
        "model.train(story, total_examples=model.corpus_count, epochs=model.epochs)"
      ]
    },
    {
      "cell_type": "code",
      "execution_count": null,
      "id": "7e303a99",
      "metadata": {
        "id": "7e303a99",
        "outputId": "fbf8801f-3c55-40cf-8467-4b9e988d6b78"
      },
      "outputs": [
        {
          "data": {
            "text/plain": [
              "31845"
            ]
          },
          "execution_count": 18,
          "metadata": {},
          "output_type": "execute_result"
        }
      ],
      "source": [
        "len(model.wv.index_to_key)"
      ]
    },
    {
      "cell_type": "code",
      "execution_count": null,
      "id": "9e35574d",
      "metadata": {
        "id": "9e35574d"
      },
      "outputs": [],
      "source": [
        "def document_vector(doc):\n",
        "    # remove out-of-vocabulary words\n",
        "    doc = [word for word in doc.split() if word in model.wv.index_to_key]\n",
        "    return np.mean(model.wv[doc], axis=0)"
      ]
    },
    {
      "cell_type": "code",
      "execution_count": null,
      "id": "f17deef0",
      "metadata": {
        "id": "f17deef0",
        "outputId": "6815e57a-73e9-4766-d110-2855f1db1930"
      },
      "outputs": [
        {
          "data": {
            "text/plain": [
              "array([-0.13551651,  0.44236022,  0.19618301,  0.2243388 , -0.05095489,\n",
              "       -0.5747312 ,  0.24217677,  0.9659006 , -0.35396117, -0.20832208,\n",
              "       -0.2984078 , -0.4400784 ,  0.06137785,  0.0494826 ,  0.17676252,\n",
              "       -0.12226024,  0.04628523, -0.3924497 , -0.03380001, -0.6410042 ,\n",
              "        0.04235367,  0.21378344,  0.05942454, -0.29909694, -0.3123422 ,\n",
              "       -0.02930854, -0.28178704,  0.04482391, -0.32226902,  0.02552933,\n",
              "        0.3864304 ,  0.02701772,  0.14447899, -0.319503  , -0.16364487,\n",
              "        0.3655229 ,  0.09109591, -0.46899873, -0.21292035, -0.75319904,\n",
              "        0.09909733, -0.25865507,  0.06007399, -0.03030884,  0.48151824,\n",
              "       -0.10978614, -0.25712606,  0.00799898,  0.05369115,  0.36769992,\n",
              "        0.07791721, -0.3666489 , -0.41765627, -0.11414295, -0.16897762,\n",
              "        0.24438773,  0.2116644 ,  0.08659696, -0.29066396,  0.08693315,\n",
              "        0.08008192,  0.12331163, -0.00459293, -0.11629856, -0.48819962,\n",
              "        0.23666628,  0.02842407,  0.15447702, -0.3748886 ,  0.23497324,\n",
              "       -0.31478316,  0.09180178,  0.6065921 , -0.07799191,  0.36435187,\n",
              "        0.13831104,  0.02367809, -0.10589553, -0.52983063,  0.14002632,\n",
              "       -0.3658514 ,  0.05524313, -0.4022981 ,  0.42953855, -0.14095813,\n",
              "       -0.18778971, -0.06615544,  0.26965094,  0.3006101 ,  0.06881877,\n",
              "        0.2490601 ,  0.18089396,  0.01643727,  0.08703522,  0.656192  ,\n",
              "        0.32215416,  0.14057031, -0.1816499 , -0.06166815, -0.17208445],\n",
              "      dtype=float32)"
            ]
          },
          "execution_count": 20,
          "metadata": {},
          "output_type": "execute_result"
        }
      ],
      "source": [
        "document_vector(df['review'].values[0])"
      ]
    },
    {
      "cell_type": "code",
      "execution_count": null,
      "id": "29d97c64",
      "metadata": {
        "id": "29d97c64"
      },
      "outputs": [],
      "source": [
        "from tqdm import tqdm"
      ]
    },
    {
      "cell_type": "code",
      "execution_count": null,
      "id": "5802ab7f",
      "metadata": {
        "id": "5802ab7f",
        "outputId": "06a7bc9d-d5ae-4450-b22b-8fe60a659e38"
      },
      "outputs": [
        {
          "name": "stderr",
          "output_type": "stream",
          "text": [
            "100%|██████████████████████████████████████████████████████████████████████████████| 9983/9983 [14:20<00:00, 11.59it/s]\n"
          ]
        }
      ],
      "source": [
        "X = []\n",
        "for doc in tqdm(df['review'].values):\n",
        "    X.append(document_vector(doc))"
      ]
    },
    {
      "cell_type": "code",
      "execution_count": null,
      "id": "d8ac1c2d",
      "metadata": {
        "id": "d8ac1c2d"
      },
      "outputs": [],
      "source": [
        "X = np.array(X)"
      ]
    },
    {
      "cell_type": "code",
      "execution_count": null,
      "id": "aab60576",
      "metadata": {
        "id": "aab60576",
        "outputId": "6f8563b9-5130-40fc-cb0b-9e1549a614f4"
      },
      "outputs": [
        {
          "data": {
            "text/plain": [
              "array([-0.13551651,  0.44236022,  0.19618301,  0.2243388 , -0.05095489,\n",
              "       -0.5747312 ,  0.24217677,  0.9659006 , -0.35396117, -0.20832208,\n",
              "       -0.2984078 , -0.4400784 ,  0.06137785,  0.0494826 ,  0.17676252,\n",
              "       -0.12226024,  0.04628523, -0.3924497 , -0.03380001, -0.6410042 ,\n",
              "        0.04235367,  0.21378344,  0.05942454, -0.29909694, -0.3123422 ,\n",
              "       -0.02930854, -0.28178704,  0.04482391, -0.32226902,  0.02552933,\n",
              "        0.3864304 ,  0.02701772,  0.14447899, -0.319503  , -0.16364487,\n",
              "        0.3655229 ,  0.09109591, -0.46899873, -0.21292035, -0.75319904,\n",
              "        0.09909733, -0.25865507,  0.06007399, -0.03030884,  0.48151824,\n",
              "       -0.10978614, -0.25712606,  0.00799898,  0.05369115,  0.36769992,\n",
              "        0.07791721, -0.3666489 , -0.41765627, -0.11414295, -0.16897762,\n",
              "        0.24438773,  0.2116644 ,  0.08659696, -0.29066396,  0.08693315,\n",
              "        0.08008192,  0.12331163, -0.00459293, -0.11629856, -0.48819962,\n",
              "        0.23666628,  0.02842407,  0.15447702, -0.3748886 ,  0.23497324,\n",
              "       -0.31478316,  0.09180178,  0.6065921 , -0.07799191,  0.36435187,\n",
              "        0.13831104,  0.02367809, -0.10589553, -0.52983063,  0.14002632,\n",
              "       -0.3658514 ,  0.05524313, -0.4022981 ,  0.42953855, -0.14095813,\n",
              "       -0.18778971, -0.06615544,  0.26965094,  0.3006101 ,  0.06881877,\n",
              "        0.2490601 ,  0.18089396,  0.01643727,  0.08703522,  0.656192  ,\n",
              "        0.32215416,  0.14057031, -0.1816499 , -0.06166815, -0.17208445],\n",
              "      dtype=float32)"
            ]
          },
          "execution_count": 27,
          "metadata": {},
          "output_type": "execute_result"
        }
      ],
      "source": [
        "X[0]"
      ]
    },
    {
      "cell_type": "code",
      "execution_count": null,
      "id": "a6c0835d",
      "metadata": {
        "id": "a6c0835d"
      },
      "outputs": [],
      "source": [
        "from sklearn.preprocessing import LabelEncoder\n",
        "encoder = LabelEncoder()\n",
        "\n",
        "y = encoder.fit_transform(df['sentiment'])"
      ]
    },
    {
      "cell_type": "code",
      "execution_count": null,
      "id": "ec5ece01",
      "metadata": {
        "id": "ec5ece01",
        "outputId": "fae53b72-f957-4571-e6f8-46b5ef9a9284"
      },
      "outputs": [
        {
          "data": {
            "text/plain": [
              "array([1, 1, 1, ..., 0, 0, 1])"
            ]
          },
          "execution_count": 30,
          "metadata": {},
          "output_type": "execute_result"
        }
      ],
      "source": [
        "y"
      ]
    },
    {
      "cell_type": "code",
      "execution_count": null,
      "id": "e9460495",
      "metadata": {
        "id": "e9460495"
      },
      "outputs": [],
      "source": [
        "from sklearn.model_selection import train_test_split\n",
        "X_train,X_test,y_train,y_test = train_test_split(X,y,test_size=0.2,random_state=1)"
      ]
    },
    {
      "cell_type": "code",
      "execution_count": null,
      "id": "90f10ae3",
      "metadata": {
        "id": "90f10ae3"
      },
      "outputs": [],
      "source": [
        "from sklearn.ensemble import RandomForestClassifier\n",
        "from sklearn.metrics import accuracy_score"
      ]
    },
    {
      "cell_type": "code",
      "execution_count": null,
      "id": "1e1a6d9b",
      "metadata": {
        "id": "1e1a6d9b",
        "outputId": "6a17669c-cbd5-49bb-8ec7-bf6a8cbdd0e7"
      },
      "outputs": [
        {
          "data": {
            "text/plain": [
              "0.7681522283425137"
            ]
          },
          "execution_count": 33,
          "metadata": {},
          "output_type": "execute_result"
        }
      ],
      "source": [
        "rf = RandomForestClassifier()\n",
        "rf.fit(X_train,y_train)\n",
        "y_pred = rf.predict(X_test)\n",
        "accuracy_score(y_test,y_pred)"
      ]
    },
    {
      "cell_type": "code",
      "execution_count": null,
      "id": "6c0694c4",
      "metadata": {
        "id": "6c0694c4"
      },
      "outputs": [],
      "source": []
    }
  ],
  "metadata": {
    "kernelspec": {
      "display_name": "Python 3",
      "language": "python",
      "name": "python3"
    },
    "language_info": {
      "codemirror_mode": {
        "name": "ipython",
        "version": 3
      },
      "file_extension": ".py",
      "mimetype": "text/x-python",
      "name": "python",
      "nbconvert_exporter": "python",
      "pygments_lexer": "ipython3",
      "version": "3.8.8"
    },
    "colab": {
      "provenance": []
    }
  },
  "nbformat": 4,
  "nbformat_minor": 5
}